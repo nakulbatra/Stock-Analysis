{
 "cells": [
  {
   "cell_type": "code",
   "execution_count": 13,
   "id": "4bb83e8e-4247-4e92-9442-7d23f4890ac6",
   "metadata": {},
   "outputs": [],
   "source": [
    "import numpy as np\n",
    "import pandas as pd\n",
    "import matplotlib.pyplot as plt\n",
    "from sklearn.preprocessing import MinMaxScaler\n",
    "from keras.models import Sequential\n",
    "from keras.layers import Dense,LSTM,Dropout"
   ]
  },
  {
   "cell_type": "code",
   "execution_count": 14,
   "id": "d459c05b-41f5-4a98-b340-00a9688d3b41",
   "metadata": {},
   "outputs": [],
   "source": [
    "data = pd.read_csv('Google_train_data.csv')"
   ]
  },
  {
   "cell_type": "code",
   "execution_count": 15,
   "id": "24b6f752-06ef-42b7-a5a2-f32cb34f1d42",
   "metadata": {},
   "outputs": [
    {
     "name": "stdout",
     "output_type": "stream",
     "text": [
      "<class 'pandas.core.frame.DataFrame'>\n",
      "RangeIndex: 1258 entries, 0 to 1257\n",
      "Data columns (total 6 columns):\n",
      " #   Column  Non-Null Count  Dtype  \n",
      "---  ------  --------------  -----  \n",
      " 0   Date    1258 non-null   object \n",
      " 1   Open    1258 non-null   float64\n",
      " 2   High    1258 non-null   float64\n",
      " 3   Low     1258 non-null   float64\n",
      " 4   Close   1258 non-null   object \n",
      " 5   Volume  1258 non-null   object \n",
      "dtypes: float64(3), object(3)\n",
      "memory usage: 59.1+ KB\n"
     ]
    },
    {
     "data": {
      "text/html": [
       "<div>\n",
       "<style scoped>\n",
       "    .dataframe tbody tr th:only-of-type {\n",
       "        vertical-align: middle;\n",
       "    }\n",
       "\n",
       "    .dataframe tbody tr th {\n",
       "        vertical-align: top;\n",
       "    }\n",
       "\n",
       "    .dataframe thead th {\n",
       "        text-align: right;\n",
       "    }\n",
       "</style>\n",
       "<table border=\"1\" class=\"dataframe\">\n",
       "  <thead>\n",
       "    <tr style=\"text-align: right;\">\n",
       "      <th></th>\n",
       "      <th>Date</th>\n",
       "      <th>Open</th>\n",
       "      <th>High</th>\n",
       "      <th>Low</th>\n",
       "      <th>Close</th>\n",
       "      <th>Volume</th>\n",
       "    </tr>\n",
       "  </thead>\n",
       "  <tbody>\n",
       "    <tr>\n",
       "      <th>0</th>\n",
       "      <td>1/3/2012</td>\n",
       "      <td>325.25</td>\n",
       "      <td>332.83</td>\n",
       "      <td>324.97</td>\n",
       "      <td>663.59</td>\n",
       "      <td>7,380,500</td>\n",
       "    </tr>\n",
       "    <tr>\n",
       "      <th>1</th>\n",
       "      <td>1/4/2012</td>\n",
       "      <td>331.27</td>\n",
       "      <td>333.87</td>\n",
       "      <td>329.08</td>\n",
       "      <td>666.45</td>\n",
       "      <td>5,749,400</td>\n",
       "    </tr>\n",
       "    <tr>\n",
       "      <th>2</th>\n",
       "      <td>1/5/2012</td>\n",
       "      <td>329.83</td>\n",
       "      <td>330.75</td>\n",
       "      <td>326.89</td>\n",
       "      <td>657.21</td>\n",
       "      <td>6,590,300</td>\n",
       "    </tr>\n",
       "    <tr>\n",
       "      <th>3</th>\n",
       "      <td>1/6/2012</td>\n",
       "      <td>328.34</td>\n",
       "      <td>328.77</td>\n",
       "      <td>323.68</td>\n",
       "      <td>648.24</td>\n",
       "      <td>5,405,900</td>\n",
       "    </tr>\n",
       "    <tr>\n",
       "      <th>4</th>\n",
       "      <td>1/9/2012</td>\n",
       "      <td>322.04</td>\n",
       "      <td>322.29</td>\n",
       "      <td>309.46</td>\n",
       "      <td>620.76</td>\n",
       "      <td>11,688,800</td>\n",
       "    </tr>\n",
       "  </tbody>\n",
       "</table>\n",
       "</div>"
      ],
      "text/plain": [
       "       Date    Open    High     Low   Close      Volume\n",
       "0  1/3/2012  325.25  332.83  324.97  663.59   7,380,500\n",
       "1  1/4/2012  331.27  333.87  329.08  666.45   5,749,400\n",
       "2  1/5/2012  329.83  330.75  326.89  657.21   6,590,300\n",
       "3  1/6/2012  328.34  328.77  323.68  648.24   5,405,900\n",
       "4  1/9/2012  322.04  322.29  309.46  620.76  11,688,800"
      ]
     },
     "execution_count": 15,
     "metadata": {},
     "output_type": "execute_result"
    }
   ],
   "source": [
    "data.info()\n",
    "data.head()"
   ]
  },
  {
   "cell_type": "code",
   "execution_count": 16,
   "id": "2331f6dc-e91b-428b-9036-e771d6734ce5",
   "metadata": {},
   "outputs": [],
   "source": [
    "data[\"Close\"]=pd.to_numeric(data.Close, errors='coerce') \n",
    "data = data.dropna()\n",
    "trainData = data.iloc[:,4:5].values"
   ]
  },
  {
   "cell_type": "code",
   "execution_count": 17,
   "id": "43d4464f-4b18-4ee5-b8b9-67c61d21c617",
   "metadata": {},
   "outputs": [
    {
     "name": "stdout",
     "output_type": "stream",
     "text": [
      "<class 'pandas.core.frame.DataFrame'>\n",
      "Index: 1149 entries, 0 to 1257\n",
      "Data columns (total 6 columns):\n",
      " #   Column  Non-Null Count  Dtype  \n",
      "---  ------  --------------  -----  \n",
      " 0   Date    1149 non-null   object \n",
      " 1   Open    1149 non-null   float64\n",
      " 2   High    1149 non-null   float64\n",
      " 3   Low     1149 non-null   float64\n",
      " 4   Close   1149 non-null   float64\n",
      " 5   Volume  1149 non-null   object \n",
      "dtypes: float64(4), object(2)\n",
      "memory usage: 62.8+ KB\n"
     ]
    }
   ],
   "source": [
    "data.info()"
   ]
  },
  {
   "cell_type": "code",
   "execution_count": 18,
   "id": "ba027bf2-8e38-42ff-95fa-30325a19f30e",
   "metadata": {},
   "outputs": [
    {
     "data": {
      "text/plain": [
       "(1149, 1)"
      ]
     },
     "execution_count": 18,
     "metadata": {},
     "output_type": "execute_result"
    }
   ],
   "source": [
    "sc = MinMaxScaler(feature_range=(0,1))\n",
    "trainData = sc.fit_transform(trainData)\n",
    "trainData.shape"
   ]
  },
  {
   "cell_type": "code",
   "execution_count": 19,
   "id": "a3f345fb-0df5-44c2-b521-068dbc535d2a",
   "metadata": {},
   "outputs": [],
   "source": [
    "X_train = []\n",
    "y_train = []\n",
    "for i in range (60,1149): #60: timestep // 1149: Length of the data \n",
    "    X_train.append(trainData[i-60:i,0])\n",
    "    y_train.append(trainData[i,0])\n",
    "X_train,y_train = np.array(X_train), np.array(y_train)"
   ]
  },
  {
   "cell_type": "code",
   "execution_count": 20,
   "id": "b0f6ac4a-8d28-49a0-90ab-4beecc234c89",
   "metadata": {},
   "outputs": [
    {
     "data": {
      "text/plain": [
       "(1089, 60, 1)"
      ]
     },
     "execution_count": 20,
     "metadata": {},
     "output_type": "execute_result"
    }
   ],
   "source": [
    "X_train = np.reshape(X_train, (X_train.shape[0],X_train.shape[1], 1)) #adding the batch_size axis \n",
    "X_train.shape"
   ]
  },
  {
   "cell_type": "code",
   "execution_count": 21,
   "id": "3aa4435c-8655-418b-ad34-6525fada61e9",
   "metadata": {},
   "outputs": [],
   "source": [
    "model = Sequential()\n",
    "model.add(LSTM(units=100, return_sequences = True, input_shape = (X_train.shape[1],1)))\n",
    "model.add(Dropout (0.2))\n",
    "\n",
    "model.add(LSTM(units=100, return_sequences = True))\n",
    "model.add(Dropout (0.2))\n",
    "\n",
    "model.add(LSTM(units=100, return_sequences = True))\n",
    "model.add(Dropout (0.2))\n",
    "\n",
    "model.add(LSTM(units=100, return_sequences = False))\n",
    "model.add(Dropout (0.2))\n",
    "\n",
    "model.add(Dense (units=1))\n",
    "model.compile(optimizer='adam', loss=\"mean_squared_error\")"
   ]
  },
  {
   "cell_type": "code",
   "execution_count": 23,
   "id": "4313665d-e2fa-4924-9b0a-a012f3d37fca",
   "metadata": {},
   "outputs": [
    {
     "name": "stdout",
     "output_type": "stream",
     "text": [
      "Epoch 1/20\n",
      "35/35 - 30s - loss: 0.0304 - 30s/epoch - 853ms/step\n",
      "Epoch 2/20\n",
      "35/35 - 10s - loss: 0.0111 - 10s/epoch - 298ms/step\n",
      "Epoch 3/20\n",
      "35/35 - 10s - loss: 0.0098 - 10s/epoch - 290ms/step\n",
      "Epoch 4/20\n",
      "35/35 - 10s - loss: 0.0073 - 10s/epoch - 292ms/step\n",
      "Epoch 5/20\n",
      "35/35 - 10s - loss: 0.0078 - 10s/epoch - 294ms/step\n",
      "Epoch 6/20\n",
      "35/35 - 10s - loss: 0.0128 - 10s/epoch - 290ms/step\n",
      "Epoch 7/20\n",
      "35/35 - 10s - loss: 0.0068 - 10s/epoch - 283ms/step\n",
      "Epoch 8/20\n",
      "35/35 - 10s - loss: 0.0064 - 10s/epoch - 289ms/step\n",
      "Epoch 9/20\n",
      "35/35 - 9s - loss: 0.0059 - 9s/epoch - 262ms/step\n",
      "Epoch 10/20\n",
      "35/35 - 12s - loss: 0.0058 - 12s/epoch - 335ms/step\n",
      "Epoch 11/20\n",
      "35/35 - 10s - loss: 0.0063 - 10s/epoch - 289ms/step\n",
      "Epoch 12/20\n",
      "35/35 - 10s - loss: 0.0056 - 10s/epoch - 295ms/step\n",
      "Epoch 13/20\n",
      "35/35 - 9s - loss: 0.0058 - 9s/epoch - 262ms/step\n",
      "Epoch 14/20\n",
      "35/35 - 9s - loss: 0.0053 - 9s/epoch - 260ms/step\n",
      "Epoch 15/20\n",
      "35/35 - 9s - loss: 0.0051 - 9s/epoch - 248ms/step\n",
      "Epoch 16/20\n",
      "35/35 - 10s - loss: 0.0049 - 10s/epoch - 278ms/step\n",
      "Epoch 17/20\n",
      "35/35 - 9s - loss: 0.0045 - 9s/epoch - 259ms/step\n",
      "Epoch 18/20\n",
      "35/35 - 9s - loss: 0.0064 - 9s/epoch - 247ms/step\n",
      "Epoch 19/20\n",
      "35/35 - 10s - loss: 0.0057 - 10s/epoch - 289ms/step\n",
      "Epoch 20/20\n",
      "35/35 - 11s - loss: 0.0052 - 11s/epoch - 324ms/step\n"
     ]
    }
   ],
   "source": [
    "hist=model.fit(X_train,y_train,epochs=20,batch_size=32,verbose=2)"
   ]
  },
  {
   "cell_type": "code",
   "execution_count": 24,
   "id": "6ce09180-b093-4db7-a6ee-0a3dad8c9d17",
   "metadata": {},
   "outputs": [
    {
     "data": {
      "image/png": "[encoded data removed]",
      "text/plain": [
       "<Figure size 640x480 with 1 Axes>"
      ]
     },
     "metadata": {},
     "output_type": "display_data"
    }
   ],
   "source": [
    "plt.plot(hist.history['loss'])\n",
    "plt.title('Training model loss')\n",
    "plt.ylabel('loss')\n",
    "plt.xlabel('epoch')\n",
    "plt.legend(['train'], loc='upper left')\n",
    "plt.show()"
   ]
  },
  {
   "cell_type": "code",
   "execution_count": 27,
   "id": "27e3befe-d194-4ddc-9d79-b1d8605af5fc",
   "metadata": {},
   "outputs": [
    {
     "data": {
      "text/plain": [
       "(192, 60, 1)"
      ]
     },
     "execution_count": 27,
     "metadata": {},
     "output_type": "execute_result"
    }
   ],
   "source": [
    "testData = pd.read_csv('Google_test_data.csv')\n",
    "testData[\"Close\"]=pd.to_numeric(testData.Close, errors='coerce')\n",
    "testData = testData.dropna() \n",
    "testData = testData.iloc[:,4:5]\n",
    "y_test = testData.iloc[60:,0:].values\n",
    "#input array for the model\n",
    "inputClosing = testData.iloc[:,0:].values\n",
    "inputClosing_scaled = sc.transform(inputClosing)\n",
    "inputClosing_scaled.shape\n",
    "X_test = []\n",
    "length= len(testData)\n",
    "timestep=60\n",
    "for i in range(timestep, length):\n",
    "    X_test.append(inputClosing_scaled[i-timestep:i,0])\n",
    "X_test = np.array(X_test)\n",
    "X_test = np.reshape(X_test, (X_test.shape[0],X_test.shape[1], 1))\n",
    "X_test.shape"
   ]
  },
  {
   "cell_type": "code",
   "execution_count": 28,
   "id": "e7c8ddaf-6330-4721-84c6-747a17b5f7e4",
   "metadata": {},
   "outputs": [
    {
     "name": "stdout",
     "output_type": "stream",
     "text": [
      "6/6 [==============================] - 1s 102ms/step\n"
     ]
    },
    {
     "data": {
      "text/plain": [
       "array([[1.1293176],\n",
       "       [1.1319286],\n",
       "       [1.1448002],\n",
       "       [1.163111 ],\n",
       "       [1.175677 ],\n",
       "       [1.1713151],\n",
       "       [1.1532179],\n",
       "       [1.132526 ],\n",
       "       [1.1224792],\n",
       "       [1.1232606],\n",
       "       [1.118472 ],\n",
       "       [1.1077293],\n",
       "       [1.0985878],\n",
       "       [1.0903335],\n",
       "       [1.0906678],\n",
       "       [1.0977132],\n",
       "       [1.1193558],\n",
       "       [1.1503946],\n",
       "       [1.1829374],\n",
       "       [1.2127749],\n",
       "       [1.2185947],\n",
       "       [1.2077304],\n",
       "       [1.1804602],\n",
       "       [1.1476645],\n",
       "       [1.1225833],\n",
       "       [1.1129715],\n",
       "       [1.1160465],\n",
       "       [1.1200771],\n",
       "       [1.1134455],\n",
       "       [1.1016797],\n",
       "       [1.0888684],\n",
       "       [1.0746622],\n",
       "       [1.0530447],\n",
       "       [1.0271311],\n",
       "       [1.0207423],\n",
       "       [1.0368849],\n",
       "       [1.0643038],\n",
       "       [1.0911981],\n",
       "       [1.1135732],\n",
       "       [1.1207589],\n",
       "       [1.1295453],\n",
       "       [1.1427172],\n",
       "       [1.1593226],\n",
       "       [1.1744944],\n",
       "       [1.1835201],\n",
       "       [1.1818858],\n",
       "       [1.1686176],\n",
       "       [1.159242 ],\n",
       "       [1.1590186],\n",
       "       [1.1682943],\n",
       "       [1.1844493],\n",
       "       [1.1932961],\n",
       "       [1.193691 ],\n",
       "       [1.188114 ],\n",
       "       [1.1854683],\n",
       "       [1.181004 ],\n",
       "       [1.1716014],\n",
       "       [1.1682076],\n",
       "       [1.1803919],\n",
       "       [1.2013158],\n",
       "       [1.2289661],\n",
       "       [1.2599683],\n",
       "       [1.2775823],\n",
       "       [1.2742594],\n",
       "       [1.2554806],\n",
       "       [1.231424 ],\n",
       "       [1.2184616],\n",
       "       [1.2178392],\n",
       "       [1.2253736],\n",
       "       [1.233034 ],\n",
       "       [1.2390826],\n",
       "       [1.2414254],\n",
       "       [1.2353452],\n",
       "       [1.2280728],\n",
       "       [1.2228365],\n",
       "       [1.2222184],\n",
       "       [1.225434 ],\n",
       "       [1.2314776],\n",
       "       [1.2446636],\n",
       "       [1.2634388],\n",
       "       [1.2865733],\n",
       "       [1.3068117],\n",
       "       [1.315205 ],\n",
       "       [1.3122851],\n",
       "       [1.3138374],\n",
       "       [1.3269502],\n",
       "       [1.345968 ],\n",
       "       [1.3607956],\n",
       "       [1.3674461],\n",
       "       [1.3668154],\n",
       "       [1.3667616],\n",
       "       [1.3768754],\n",
       "       [1.3953956],\n",
       "       [1.405754 ],\n",
       "       [1.4010762],\n",
       "       [1.3837833],\n",
       "       [1.358436 ],\n",
       "       [1.332028 ],\n",
       "       [1.3126912],\n",
       "       [1.3099421],\n",
       "       [1.3218915],\n",
       "       [1.3420697],\n",
       "       [1.3653849],\n",
       "       [1.3828379],\n",
       "       [1.3906577],\n",
       "       [1.3882943],\n",
       "       [1.381783 ],\n",
       "       [1.3759049],\n",
       "       [1.3767642],\n",
       "       [1.3836112],\n",
       "       [1.394443 ],\n",
       "       [1.4082366],\n",
       "       [1.4208952],\n",
       "       [1.4338396],\n",
       "       [1.4500643],\n",
       "       [1.4623914],\n",
       "       [1.4708701],\n",
       "       [1.4781654],\n",
       "       [1.488876 ],\n",
       "       [1.4640197],\n",
       "       [1.4080945],\n",
       "       [1.3434042],\n",
       "       [1.298096 ],\n",
       "       [1.2798666],\n",
       "       [1.2779393],\n",
       "       [1.2817434],\n",
       "       [1.2856147],\n",
       "       [1.289265 ],\n",
       "       [1.2822229],\n",
       "       [1.2642704],\n",
       "       [1.2577957],\n",
       "       [1.2700796],\n",
       "       [1.2882017],\n",
       "       [1.296063 ],\n",
       "       [1.2963787],\n",
       "       [1.2938172],\n",
       "       [1.2877465],\n",
       "       [1.2780291],\n",
       "       [1.2679683],\n",
       "       [1.2545301],\n",
       "       [1.2411207],\n",
       "       [1.2264072],\n",
       "       [1.1916488],\n",
       "       [1.1510842],\n",
       "       [1.1142592],\n",
       "       [1.0889779],\n",
       "       [1.083738 ],\n",
       "       [1.0991484],\n",
       "       [1.125635 ],\n",
       "       [1.1524266],\n",
       "       [1.1763645],\n",
       "       [1.1935823],\n",
       "       [1.2052108],\n",
       "       [1.2152368],\n",
       "       [1.2232357],\n",
       "       [1.2310272],\n",
       "       [1.2408625],\n",
       "       [1.2487241],\n",
       "       [1.2436119],\n",
       "       [1.2261447],\n",
       "       [1.2027541],\n",
       "       [1.1824409],\n",
       "       [1.1746451],\n",
       "       [1.1823422],\n",
       "       [1.2024198],\n",
       "       [1.2293303],\n",
       "       [1.2501599],\n",
       "       [1.2631699],\n",
       "       [1.2738625],\n",
       "       [1.283851 ],\n",
       "       [1.2919892],\n",
       "       [1.2986623],\n",
       "       [1.3040811],\n",
       "       [1.305157 ],\n",
       "       [1.3022883],\n",
       "       [1.2920163],\n",
       "       [1.2804929],\n",
       "       [1.27411  ],\n",
       "       [1.2705673],\n",
       "       [1.2667872],\n",
       "       [1.3008263],\n",
       "       [1.3579702],\n",
       "       [1.4101826],\n",
       "       [1.440354 ],\n",
       "       [1.4455426],\n",
       "       [1.4289211],\n",
       "       [1.3878795],\n",
       "       [1.3447632],\n",
       "       [1.3135931],\n",
       "       [1.3082606],\n",
       "       [1.3166153],\n",
       "       [1.3245028]], dtype=float32)"
      ]
     },
     "execution_count": 28,
     "metadata": {},
     "output_type": "execute_result"
    }
   ],
   "source": [
    "y_pred=model.predict(X_test)\n",
    "y_pred"
   ]
  },
  {
   "cell_type": "code",
   "execution_count": 29,
   "id": "59598c12-05a4-436e-9082-a9c122bb4ed6",
   "metadata": {},
   "outputs": [],
   "source": [
    "predicted_price = sc.inverse_transform(y_pred)"
   ]
  },
  {
   "cell_type": "code",
   "execution_count": 31,
   "id": "a584b2b5-7ea0-476d-917c-9a78ae7751d6",
   "metadata": {},
   "outputs": [
    {
     "data": {
      "image/png": "[encoded data removed]",
      "text/plain": [
       "<Figure size 640x480 with 1 Axes>"
      ]
     },
     "metadata": {},
     "output_type": "display_data"
    }
   ],
   "source": [
    "plt.plot(y_test, color = 'red', label = 'Actual Stock Price')\n",
    "plt.plot(predicted_price, color = 'green', label = 'Predicted Stock Price')\n",
    "plt.title('Google stock price prediction')\n",
    "plt.xlabel('Time')\n",
    "plt.ylabel('Stock Price')\n",
    "plt.legend()\n",
    "plt.show()"
   ]
  },
  {
   "cell_type": "code",
   "execution_count": null,
   "id": "f89b3d76-ea09-4c4f-8afa-7c09d654784d",
   "metadata": {},
   "outputs": [],
   "source": []
  }
 ],
 "metadata": {
  "kernelspec": {
   "display_name": "Python 3 (ipykernel)",
   "language": "python",
   "name": "python3"
  },
  "language_info": {
   "codemirror_mode": {
    "name": "ipython",
    "version": 3
   },
   "file_extension": ".py",
   "mimetype": "text/x-python",
   "name": "python",
   "nbconvert_exporter": "python",
   "pygments_lexer": "ipython3",
   "version": "3.11.3"
  }
 },
 "nbformat": 4,
 "nbformat_minor": 5
}
